{
 "cells": [
  {
   "cell_type": "code",
   "execution_count": 2,
   "id": "92ed5371-8f09-4608-9206-bab8df2a8ba7",
   "metadata": {},
   "outputs": [],
   "source": [
    "import numpy as np\n",
    "import scipy.io as sio\n",
    "import matplotlib.pyplot as plt\n",
    "from scipy.optimize import minimize"
   ]
  },
  {
   "cell_type": "code",
   "execution_count": 3,
   "id": "368d6352-2863-4f2a-afb4-fb352d042b77",
   "metadata": {},
   "outputs": [],
   "source": [
    "data=sio.loadmat('ex4data1.mat')\n",
    "raw_X=data['X']\n",
    "raw_y=data['y']"
   ]
  },
  {
   "cell_type": "code",
   "execution_count": 4,
   "id": "1cc5c7e3-4e21-4d5a-901f-fc2b96bf0986",
   "metadata": {},
   "outputs": [
    {
     "data": {
      "text/plain": [
       "(5000, 401)"
      ]
     },
     "execution_count": 4,
     "metadata": {},
     "output_type": "execute_result"
    }
   ],
   "source": [
    "X=np.insert(raw_X,0,values=1,axis=1)\n",
    "X.shape"
   ]
  },
  {
   "cell_type": "markdown",
   "id": "80f420d5-9bfa-4321-b8ec-2b5c39632b65",
   "metadata": {},
   "source": [
    "### One-hot编码\n",
    "每个样本中只有一个特征状态为1，其余为0"
   ]
  },
  {
   "cell_type": "code",
   "execution_count": 5,
   "id": "dad1e93b-204b-4b88-b9a9-cf5cbfca6603",
   "metadata": {},
   "outputs": [],
   "source": [
    "def one_hot_encoder(raw_y):\n",
    "    result=[]\n",
    "    for i in raw_y:#y的值1-10\n",
    "        y_temp=np.zeros(10)\n",
    "        y_temp[i-1]=1\n",
    "        result.append(y_temp)\n",
    "    return np.array(result)"
   ]
  },
  {
   "cell_type": "code",
   "execution_count": 6,
   "id": "09dfaa5e-7e84-4994-a7e2-85b65913015d",
   "metadata": {},
   "outputs": [
    {
     "data": {
      "text/plain": [
       "array([[0., 0., 0., ..., 0., 0., 1.],\n",
       "       [0., 0., 0., ..., 0., 0., 1.],\n",
       "       [0., 0., 0., ..., 0., 0., 1.],\n",
       "       ...,\n",
       "       [0., 0., 0., ..., 0., 1., 0.],\n",
       "       [0., 0., 0., ..., 0., 1., 0.],\n",
       "       [0., 0., 0., ..., 0., 1., 0.]], shape=(5000, 10))"
      ]
     },
     "execution_count": 6,
     "metadata": {},
     "output_type": "execute_result"
    }
   ],
   "source": [
    "y=one_hot_encoder(raw_y)\n",
    "y"
   ]
  },
  {
   "cell_type": "code",
   "execution_count": 7,
   "id": "db1f21b6-1609-4267-9a31-ba7d3aceba76",
   "metadata": {},
   "outputs": [
    {
     "data": {
      "text/plain": [
       "((25, 401), (10, 26))"
      ]
     },
     "execution_count": 7,
     "metadata": {},
     "output_type": "execute_result"
    }
   ],
   "source": [
    "theta=sio.loadmat('ex4weights.mat')\n",
    "theta1,theta2=theta['Theta1'],theta['Theta2']\n",
    "theta1.shape,theta2.shape"
   ]
  },
  {
   "cell_type": "markdown",
   "id": "6684a0f6-ad57-42a0-89be-c440fe54d8ee",
   "metadata": {},
   "source": [
    "### 序列化权重参数\n",
    "序列化：把模型的参数（比如权重和偏置）以二进制的形式保存到文件中。\n",
    "\n",
    "反序列化：把保存的数据再次读取出来。"
   ]
  },
  {
   "cell_type": "code",
   "execution_count": 8,
   "id": "1bfdbc7c-825a-49e9-b70f-9a72956b3f2b",
   "metadata": {},
   "outputs": [],
   "source": [
    "def serialize(a,b):\n",
    "    return np.append(a.flatten(),b.flatten())"
   ]
  },
  {
   "cell_type": "code",
   "execution_count": 9,
   "id": "5e23b497-f290-40f1-bd3d-a2f641c60a41",
   "metadata": {},
   "outputs": [
    {
     "data": {
      "text/plain": [
       "(10285,)"
      ]
     },
     "execution_count": 9,
     "metadata": {},
     "output_type": "execute_result"
    }
   ],
   "source": [
    "theta_serialize=serialize(theta1,theta2)\n",
    "theta_serialize.shape"
   ]
  },
  {
   "cell_type": "markdown",
   "id": "68927697-9be9-4152-af62-4608b7563513",
   "metadata": {},
   "source": [
    "### 解序列化权重参数"
   ]
  },
  {
   "cell_type": "code",
   "execution_count": 10,
   "id": "c82fa4f0-c40c-45f0-b53b-4b401fa8c7ee",
   "metadata": {},
   "outputs": [],
   "source": [
    "def deserialize(theta_serialize):\n",
    "    theta1=theta_serialize[:25*401].reshape(25,401)\n",
    "    theta2=theta_serialize[25*401:].reshape(10,26)\n",
    "    return theta1,theta2"
   ]
  },
  {
   "cell_type": "code",
   "execution_count": 11,
   "id": "f7609bf1-cb20-4aa1-bf66-2fea6c1f817b",
   "metadata": {},
   "outputs": [],
   "source": [
    "theta1,theta2=deserialize(theta_serialize)"
   ]
  },
  {
   "cell_type": "code",
   "execution_count": 12,
   "id": "e26e18c1-37d0-45bd-8101-aeef0412a5b4",
   "metadata": {},
   "outputs": [
    {
     "data": {
      "text/plain": [
       "((25, 401), (10, 26))"
      ]
     },
     "execution_count": 12,
     "metadata": {},
     "output_type": "execute_result"
    }
   ],
   "source": [
    "theta1.shape,theta2.shape"
   ]
  },
  {
   "attachments": {
    "c95fbbab-6193-4b48-9bfb-01aada32ca5f.png": {
     "image/png": "[encoded data removed]"
    }
   },
   "cell_type": "markdown",
   "id": "c6501ffd-475b-4f0e-ab11-2c2edc1f73c2",
   "metadata": {},
   "source": [
    "### 前向传播\n",
    "![image.png](attachment:c95fbbab-6193-4b48-9bfb-01aada32ca5f.png)"
   ]
  },
  {
   "cell_type": "code",
   "execution_count": 13,
   "id": "0f871933-0401-4535-bdd6-6a97b34e56d3",
   "metadata": {},
   "outputs": [],
   "source": [
    "def sigmoid(z):\n",
    "    return 1/(1+np.exp(-z))"
   ]
  },
  {
   "cell_type": "code",
   "execution_count": 14,
   "id": "d936f65f-4814-4bff-8833-dfdf125bf87d",
   "metadata": {},
   "outputs": [],
   "source": [
    "def feed_forword(theta_serialize,X):\n",
    "    theta1,theta2=deserialize(theta_serialize)\n",
    "    a1=X\n",
    "    z2=a1@theta1.T\n",
    "    a2=sigmoid(z2)\n",
    "    a2=np.insert(a2,0,values=1,axis=1)\n",
    "    z3=a2@theta2.T\n",
    "    h=sigmoid(z3)\n",
    "    return a1,z2,a2,z3,h"
   ]
  },
  {
   "cell_type": "markdown",
   "id": "fe468849-f66d-4e3b-8257-dbea0b169053",
   "metadata": {},
   "source": [
    "### 损失函数\n",
    "#### 1.不带正则化的损失函数"
   ]
  },
  {
   "cell_type": "code",
   "execution_count": 15,
   "id": "6d6dd4a7-3521-4323-9259-048140416b1d",
   "metadata": {},
   "outputs": [],
   "source": [
    "def cost(theta_serialize,X,y):\n",
    "    a1,z2,a2,z3,h=feed_forword(theta_serialize,X)\n",
    "    J=-np.sum(y*np.log(h)+(1-y)*np.log(1-h))/len(X)\n",
    "    return J"
   ]
  },
  {
   "cell_type": "code",
   "execution_count": 16,
   "id": "ae0702b6-664f-4dc5-93c2-7fc7ee29c126",
   "metadata": {},
   "outputs": [
    {
     "data": {
      "text/plain": [
       "np.float64(0.2876291651613189)"
      ]
     },
     "execution_count": 16,
     "metadata": {},
     "output_type": "execute_result"
    }
   ],
   "source": [
    "cost(theta_serialize,X,y)"
   ]
  },
  {
   "cell_type": "markdown",
   "id": "387ed586-73ac-4c66-a721-8886648efb6d",
   "metadata": {},
   "source": [
    "#### 2.带正则化的损失函数"
   ]
  },
  {
   "cell_type": "code",
   "execution_count": 17,
   "id": "d49efdb8-7e83-4d08-bbc1-7aa47e7d12f9",
   "metadata": {},
   "outputs": [],
   "source": [
    "def reg_cost(theta_serialize,X,y,lamda):\n",
    "    sum1=np.sum(np.power(theta1[:,1:],2))\n",
    "    sum2=np.sum(np.power(theta2[:,1:],2))\n",
    "    reg=(sum1+sum2)*lamda/2/len(X)\n",
    "    return reg+cost(theta_serialize,X,y)"
   ]
  },
  {
   "cell_type": "code",
   "execution_count": 18,
   "id": "314161ef-640d-410c-8011-e6e308f2e7f7",
   "metadata": {},
   "outputs": [
    {
     "data": {
      "text/plain": [
       "np.float64(0.38376985909092365)"
      ]
     },
     "execution_count": 18,
     "metadata": {},
     "output_type": "execute_result"
    }
   ],
   "source": [
    "lamda=1\n",
    "reg_cost(theta_serialize,X,y,lamda)"
   ]
  },
  {
   "attachments": {
    "6f5fd466-38b6-40ef-bcc6-b36a77056b7b.png": {
     "image/png": "[encoded data removed]"
    }
   },
   "cell_type": "markdown",
   "id": "ea248b27-d218-4495-801d-e37e19034492",
   "metadata": {},
   "source": [
    "### 反向传播\n",
    "![image.png](attachment:6f5fd466-38b6-40ef-bcc6-b36a77056b7b.png)\n",
    "#### 1.不带正则化的梯度\n",
    "$$\n",
    "sigmoid=\\frac 1 {1+e^{-z}}  \n",
    "$$\n",
    "$$\n",
    "sigmoid\\ '=sigmoid*(1-sigmoid)\n",
    "$$"
   ]
  },
  {
   "cell_type": "markdown",
   "id": "5674a633-2e50-4698-8c61-25f032e08fdc",
   "metadata": {},
   "source": [
    "$$\n",
    "\\frac{\\partial J}{\\partial \\theta_2}=\\frac{\\partial J}{\\partial h}·\\frac{\\partial h}{\\partial z3}·\\frac{\\partial z3}{\\partial \\theta_2}\n",
    "=(h-y)*a2\n",
    "$$\n",
    "\n",
    "$$\n",
    "\\frac{\\partial J}{\\partial \\theta_1}=\\frac{\\partial J}{\\partial h}·\\frac{\\partial h}{\\partial z3}·\\frac{\\partial z3}{\\partial a2}·\\frac{\\partial a2}{\\partial z2}·\\frac{\\partial z2}{\\partial \\theta_1}\n",
    "=(h-y)*\\theta_2*sigmoid(z2)\\ '*a1\n",
    "$$"
   ]
  },
  {
   "cell_type": "code",
   "execution_count": 19,
   "id": "6bc30a89-f202-4c25-8f25-322d9dca82c2",
   "metadata": {},
   "outputs": [],
   "source": [
    "def sigmoid_gradient(z):\n",
    "    return sigmoid(z)*(1-sigmoid(z))"
   ]
  },
  {
   "cell_type": "code",
   "execution_count": 21,
   "id": "897ea537-ae3c-4c14-a5a4-e95ffae84322",
   "metadata": {},
   "outputs": [],
   "source": [
    "def gradient(theta_serialize,X,y):\n",
    "    theta1,theta2=deserialize(theta_serialize)\n",
    "    a1,z2,a2,z3,h=feed_forword(theta_serialize,X)\n",
    "\n",
    "    d3=h-y\n",
    "    d2=d3@theta2[:,1:]*sigmoid_gradient(z2)\n",
    "    D2=(d3.T@a2)/len(X)\n",
    "    D1=(d2.T@a1)/len(X)\n",
    "    return serialize(D1,D2)"
   ]
  },
  {
   "cell_type": "markdown",
   "id": "4521653e-6fea-4a9d-85b8-7d16d388bdfb",
   "metadata": {},
   "source": [
    "#### 2.带正则化的梯度"
   ]
  },
  {
   "cell_type": "code",
   "execution_count": 23,
   "id": "e38e716a-56a1-4d38-927c-d77493dbd9df",
   "metadata": {},
   "outputs": [],
   "source": [
    "def reg_gradient(theta_serialize,X,y,lamda):\n",
    "    D=gradient(theta_serialize,X,y)\n",
    "    D1,D2=deserialize(D)\n",
    "\n",
    "    theta1,theta2=deserialize(theta_serialize)\n",
    "    D1[:,1:]= D1[:,1:]+theta1[:,1:]*lamda/len(X)\n",
    "    D2[:,1:]= D2[:,1:]+theta2[:,1:]*lamda/len(X)\n",
    "    return serialize(D1,D2)"
   ]
  },
  {
   "cell_type": "markdown",
   "id": "75aedd77-433f-458e-9984-734400696e74",
   "metadata": {},
   "source": [
    "### 神经网络优化"
   ]
  },
  {
   "cell_type": "code",
   "execution_count": 38,
   "id": "d6e7799a-c2a5-494b-9e89-94673904221d",
   "metadata": {},
   "outputs": [],
   "source": [
    "from scipy.optimize import minimize\n",
    "def nn_training(X,y):\n",
    "    init_theta=np.random.uniform(-0.5,0.5,10285)\n",
    "    res=minimize(\n",
    "         fun=reg_cost,\n",
    "         x0=init_theta,\n",
    "         args=(X,y,lamda),\n",
    "         method='TNC',\n",
    "         jac=reg_gradient,\n",
    "         options={'maxfun':300})\n",
    "    return res "
   ]
  },
  {
   "cell_type": "code",
   "execution_count": 39,
   "id": "7b97fb02-a82d-4d9f-980a-ba2fab0c5981",
   "metadata": {},
   "outputs": [],
   "source": [
    "lamda=10\n",
    "res=nn_training(X,y)"
   ]
  },
  {
   "cell_type": "code",
   "execution_count": 40,
   "id": "4ff594b9-e031-4bc4-8ba4-609cfc35fead",
   "metadata": {},
   "outputs": [],
   "source": [
    "raw_y=data['y'].reshape(5000,)"
   ]
  },
  {
   "cell_type": "code",
   "execution_count": 41,
   "id": "30cbacc5-0976-4134-8cb9-2a6690c70680",
   "metadata": {},
   "outputs": [
    {
     "data": {
      "text/plain": [
       "np.float64(0.9366)"
      ]
     },
     "execution_count": 41,
     "metadata": {},
     "output_type": "execute_result"
    }
   ],
   "source": [
    "_,_,_,_,h=feed_forword(res.x,X)\n",
    "y_pred=np.argmax(h,axis=1)+1\n",
    "acc=np.mean(y_pred==raw_y)\n",
    "acc"
   ]
  },
  {
   "cell_type": "markdown",
   "id": "b8eefaae-69b2-4a02-9179-7fcd0acc4021",
   "metadata": {},
   "source": [
    "### 可视化隐藏层"
   ]
  },
  {
   "cell_type": "code",
   "execution_count": 45,
   "id": "a55f4ad1-2d11-4fd2-8514-ae5a9c4a974f",
   "metadata": {},
   "outputs": [],
   "source": [
    "def plot_hidden_layer(theta):\n",
    "    theta1,_=deserialize(theta)\n",
    "    hidden_layer=theta1[:,1:]#不要自己添加的偏置项 25，400\n",
    "\n",
    "    fig,ax=plt.subplots(ncols=5,nrows=5,figsize=(8,8),sharex=True,sharey=True)\n",
    "    for r in range(5):\n",
    "        for c in range(5):\n",
    "            ax[r,c].imshow(hidden_layer[5*r+c].reshape(20,20).T,cmap='gray_r')\n",
    "\n",
    "    plt.xticks([])\n",
    "    plt.yticks([])\n",
    "    plt.show"
   ]
  },
  {
   "cell_type": "code",
   "execution_count": 46,
   "id": "bb65979b-68a0-4819-98ac-98900fad7df7",
   "metadata": {},
   "outputs": [
    {
     "data": {
      "image/png": "[encoded data removed]",
      "text/plain": [
       "<Figure size 800x800 with 25 Axes>"
      ]
     },
     "metadata": {},
     "output_type": "display_data"
    }
   ],
   "source": [
    "plot_hidden_layer(res.x)"
   ]
  }
 ],
 "metadata": {
  "kernelspec": {
   "display_name": "Python 3 (ipykernel)",
   "language": "python",
   "name": "python3"
  },
  "language_info": {
   "codemirror_mode": {
    "name": "ipython",
    "version": 3
   },
   "file_extension": ".py",
   "mimetype": "text/x-python",
   "name": "python",
   "nbconvert_exporter": "python",
   "pygments_lexer": "ipython3",
   "version": "3.10.18"
  }
 },
 "nbformat": 4,
 "nbformat_minor": 5
}
