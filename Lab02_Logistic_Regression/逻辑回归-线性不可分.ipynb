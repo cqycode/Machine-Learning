{
 "cells": [
  {
   "cell_type": "markdown",
   "id": "add9a23b-2984-422c-ad15-1a4b94c74136",
   "metadata": {},
   "source": [
    "### 逻辑回归-线性不可分\n",
    "案例：判断芯片要接受还是抛弃"
   ]
  },
  {
   "cell_type": "code",
   "execution_count": 1,
   "id": "284cfb60-b120-4f1c-a34c-0d45641958c5",
   "metadata": {},
   "outputs": [],
   "source": [
    "import numpy as np\n",
    "import pandas as pd\n",
    "import matplotlib.pyplot as plt"
   ]
  },
  {
   "cell_type": "code",
   "execution_count": 2,
   "id": "837e8ed9-6bb0-4122-8df5-4042583b5039",
   "metadata": {},
   "outputs": [
    {
     "data": {
      "text/html": [
       "<div>\n",
       "<style scoped>\n",
       "    .dataframe tbody tr th:only-of-type {\n",
       "        vertical-align: middle;\n",
       "    }\n",
       "\n",
       "    .dataframe tbody tr th {\n",
       "        vertical-align: top;\n",
       "    }\n",
       "\n",
       "    .dataframe thead th {\n",
       "        text-align: right;\n",
       "    }\n",
       "</style>\n",
       "<table border=\"1\" class=\"dataframe\">\n",
       "  <thead>\n",
       "    <tr style=\"text-align: right;\">\n",
       "      <th></th>\n",
       "      <th>Test 1</th>\n",
       "      <th>Test 2</th>\n",
       "      <th>Accepted</th>\n",
       "    </tr>\n",
       "  </thead>\n",
       "  <tbody>\n",
       "    <tr>\n",
       "      <th>0</th>\n",
       "      <td>0.051267</td>\n",
       "      <td>0.69956</td>\n",
       "      <td>1</td>\n",
       "    </tr>\n",
       "    <tr>\n",
       "      <th>1</th>\n",
       "      <td>-0.092742</td>\n",
       "      <td>0.68494</td>\n",
       "      <td>1</td>\n",
       "    </tr>\n",
       "    <tr>\n",
       "      <th>2</th>\n",
       "      <td>-0.213710</td>\n",
       "      <td>0.69225</td>\n",
       "      <td>1</td>\n",
       "    </tr>\n",
       "    <tr>\n",
       "      <th>3</th>\n",
       "      <td>-0.375000</td>\n",
       "      <td>0.50219</td>\n",
       "      <td>1</td>\n",
       "    </tr>\n",
       "    <tr>\n",
       "      <th>4</th>\n",
       "      <td>-0.513250</td>\n",
       "      <td>0.46564</td>\n",
       "      <td>1</td>\n",
       "    </tr>\n",
       "  </tbody>\n",
       "</table>\n",
       "</div>"
      ],
      "text/plain": [
       "     Test 1   Test 2  Accepted\n",
       "0  0.051267  0.69956         1\n",
       "1 -0.092742  0.68494         1\n",
       "2 -0.213710  0.69225         1\n",
       "3 -0.375000  0.50219         1\n",
       "4 -0.513250  0.46564         1"
      ]
     },
     "execution_count": 2,
     "metadata": {},
     "output_type": "execute_result"
    }
   ],
   "source": [
    "path='ex2data2.txt'\n",
    "data=pd.read_csv(path,names=['Test 1','Test 2','Accepted'])\n",
    "data.head()"
   ]
  },
  {
   "cell_type": "code",
   "execution_count": 3,
   "id": "fc11e0f0-cf52-4519-bafa-7ecd2647f330",
   "metadata": {},
   "outputs": [
    {
     "data": {
      "image/png": "[encoded data removed]",
      "text/plain": [
       "<Figure size 640x480 with 1 Axes>"
      ]
     },
     "metadata": {},
     "output_type": "display_data"
    }
   ],
   "source": [
    "fig,ax=plt.subplots()\n",
    "ax.scatter(data[data['Accepted']==0]['Test 1'],data[data['Accepted']==0]['Test 2'],c='r',marker='x',label='y=0')\n",
    "ax.scatter(data[data['Accepted']==1]['Test 1'],data[data['Accepted']==1]['Test 2'],c='b',marker='o',label='y=1')\n",
    "ax.legend()\n",
    "ax.set(xlabel='Test 1',ylabel='Test 2')\n",
    "plt.show()"
   ]
  },
  {
   "cell_type": "markdown",
   "id": "602cdcc7-7fc5-46cb-8827-31892a2f1625",
   "metadata": {},
   "source": [
    "### 特征映射\n",
    "将一个二维特征(x1, x2)根据自己的需要映射到高维\n",
    "\n",
    "例如2次方\n",
    "$$\n",
    "\\left\\{\n",
    "\\begin{matrix}\n",
    "1 \\\\\n",
    "x_1 \\\\\n",
    "x_2 \\\\\n",
    "x_1^2 \\\\\n",
    "x_1x_2 \\\\\n",
    "x_2^2\n",
    "\\end{matrix}\n",
    "\\right\\}\r\n",
    "$$\r\n"
   ]
  },
  {
   "cell_type": "code",
   "execution_count": 20,
   "id": "97454e82-945e-4fe7-a941-5514bca243c9",
   "metadata": {},
   "outputs": [],
   "source": [
    "def feature_mapping(x1,x2,power):\n",
    "    data={}\n",
    "\n",
    "    for i in range(power+1):\n",
    "        for j in range(i+1):\n",
    "            data['F{}{}'.format(i-j,j)]=np.power(x1,i-j)*np.power(x2,j)\n",
    "    return pd.DataFrame(data)"
   ]
  },
  {
   "cell_type": "code",
   "execution_count": 13,
   "id": "e028ccd9-b913-4aed-8e64-5bcdff5bcdd8",
   "metadata": {},
   "outputs": [],
   "source": [
    "x1=data['Test 1']\n",
    "x2=data['Test 2']"
   ]
  },
  {
   "cell_type": "code",
   "execution_count": 21,
   "id": "a1ad94d7-9980-4343-811d-e217b076e552",
   "metadata": {},
   "outputs": [],
   "source": [
    "data2=feature_mapping(x1,x2,6)#映射为6次方"
   ]
  },
  {
   "cell_type": "markdown",
   "id": "84df9bd6-32cf-4146-aea5-038b5e27546e",
   "metadata": {},
   "source": [
    "$$Fij=x_1^ix_2^j$$"
   ]
  },
  {
   "cell_type": "code",
   "execution_count": 9,
   "id": "ba89e2e1-f001-41e8-a936-6d0423041bf4",
   "metadata": {},
   "outputs": [
    {
     "data": {
      "text/html": [
       "<div>\n",
       "<style scoped>\n",
       "    .dataframe tbody tr th:only-of-type {\n",
       "        vertical-align: middle;\n",
       "    }\n",
       "\n",
       "    .dataframe tbody tr th {\n",
       "        vertical-align: top;\n",
       "    }\n",
       "\n",
       "    .dataframe thead th {\n",
       "        text-align: right;\n",
       "    }\n",
       "</style>\n",
       "<table border=\"1\" class=\"dataframe\">\n",
       "  <thead>\n",
       "    <tr style=\"text-align: right;\">\n",
       "      <th></th>\n",
       "      <th>F00</th>\n",
       "      <th>F10</th>\n",
       "      <th>F01</th>\n",
       "      <th>F20</th>\n",
       "      <th>F11</th>\n",
       "      <th>F02</th>\n",
       "      <th>F30</th>\n",
       "      <th>F21</th>\n",
       "      <th>F12</th>\n",
       "      <th>F03</th>\n",
       "      <th>...</th>\n",
       "      <th>F23</th>\n",
       "      <th>F14</th>\n",
       "      <th>F05</th>\n",
       "      <th>F60</th>\n",
       "      <th>F51</th>\n",
       "      <th>F42</th>\n",
       "      <th>F33</th>\n",
       "      <th>F24</th>\n",
       "      <th>F15</th>\n",
       "      <th>F06</th>\n",
       "    </tr>\n",
       "  </thead>\n",
       "  <tbody>\n",
       "    <tr>\n",
       "      <th>0</th>\n",
       "      <td>1.0</td>\n",
       "      <td>0.051267</td>\n",
       "      <td>0.69956</td>\n",
       "      <td>0.002628</td>\n",
       "      <td>0.035864</td>\n",
       "      <td>0.489384</td>\n",
       "      <td>0.000135</td>\n",
       "      <td>0.001839</td>\n",
       "      <td>0.025089</td>\n",
       "      <td>0.342354</td>\n",
       "      <td>...</td>\n",
       "      <td>0.000900</td>\n",
       "      <td>0.012278</td>\n",
       "      <td>0.167542</td>\n",
       "      <td>1.815630e-08</td>\n",
       "      <td>2.477505e-07</td>\n",
       "      <td>0.000003</td>\n",
       "      <td>0.000046</td>\n",
       "      <td>0.000629</td>\n",
       "      <td>0.008589</td>\n",
       "      <td>0.117206</td>\n",
       "    </tr>\n",
       "    <tr>\n",
       "      <th>1</th>\n",
       "      <td>1.0</td>\n",
       "      <td>-0.092742</td>\n",
       "      <td>0.68494</td>\n",
       "      <td>0.008601</td>\n",
       "      <td>-0.063523</td>\n",
       "      <td>0.469143</td>\n",
       "      <td>-0.000798</td>\n",
       "      <td>0.005891</td>\n",
       "      <td>-0.043509</td>\n",
       "      <td>0.321335</td>\n",
       "      <td>...</td>\n",
       "      <td>0.002764</td>\n",
       "      <td>-0.020412</td>\n",
       "      <td>0.150752</td>\n",
       "      <td>6.362953e-07</td>\n",
       "      <td>-4.699318e-06</td>\n",
       "      <td>0.000035</td>\n",
       "      <td>-0.000256</td>\n",
       "      <td>0.001893</td>\n",
       "      <td>-0.013981</td>\n",
       "      <td>0.103256</td>\n",
       "    </tr>\n",
       "    <tr>\n",
       "      <th>2</th>\n",
       "      <td>1.0</td>\n",
       "      <td>-0.213710</td>\n",
       "      <td>0.69225</td>\n",
       "      <td>0.045672</td>\n",
       "      <td>-0.147941</td>\n",
       "      <td>0.479210</td>\n",
       "      <td>-0.009761</td>\n",
       "      <td>0.031616</td>\n",
       "      <td>-0.102412</td>\n",
       "      <td>0.331733</td>\n",
       "      <td>...</td>\n",
       "      <td>0.015151</td>\n",
       "      <td>-0.049077</td>\n",
       "      <td>0.158970</td>\n",
       "      <td>9.526844e-05</td>\n",
       "      <td>-3.085938e-04</td>\n",
       "      <td>0.001000</td>\n",
       "      <td>-0.003238</td>\n",
       "      <td>0.010488</td>\n",
       "      <td>-0.033973</td>\n",
       "      <td>0.110047</td>\n",
       "    </tr>\n",
       "    <tr>\n",
       "      <th>3</th>\n",
       "      <td>1.0</td>\n",
       "      <td>-0.375000</td>\n",
       "      <td>0.50219</td>\n",
       "      <td>0.140625</td>\n",
       "      <td>-0.188321</td>\n",
       "      <td>0.252195</td>\n",
       "      <td>-0.052734</td>\n",
       "      <td>0.070620</td>\n",
       "      <td>-0.094573</td>\n",
       "      <td>0.126650</td>\n",
       "      <td>...</td>\n",
       "      <td>0.017810</td>\n",
       "      <td>-0.023851</td>\n",
       "      <td>0.031940</td>\n",
       "      <td>2.780914e-03</td>\n",
       "      <td>-3.724126e-03</td>\n",
       "      <td>0.004987</td>\n",
       "      <td>-0.006679</td>\n",
       "      <td>0.008944</td>\n",
       "      <td>-0.011978</td>\n",
       "      <td>0.016040</td>\n",
       "    </tr>\n",
       "    <tr>\n",
       "      <th>4</th>\n",
       "      <td>1.0</td>\n",
       "      <td>-0.513250</td>\n",
       "      <td>0.46564</td>\n",
       "      <td>0.263426</td>\n",
       "      <td>-0.238990</td>\n",
       "      <td>0.216821</td>\n",
       "      <td>-0.135203</td>\n",
       "      <td>0.122661</td>\n",
       "      <td>-0.111283</td>\n",
       "      <td>0.100960</td>\n",
       "      <td>...</td>\n",
       "      <td>0.026596</td>\n",
       "      <td>-0.024128</td>\n",
       "      <td>0.021890</td>\n",
       "      <td>1.827990e-02</td>\n",
       "      <td>-1.658422e-02</td>\n",
       "      <td>0.015046</td>\n",
       "      <td>-0.013650</td>\n",
       "      <td>0.012384</td>\n",
       "      <td>-0.011235</td>\n",
       "      <td>0.010193</td>\n",
       "    </tr>\n",
       "  </tbody>\n",
       "</table>\n",
       "<p>5 rows × 28 columns</p>\n",
       "</div>"
      ],
      "text/plain": [
       "   F00       F10      F01       F20       F11       F02       F30       F21   \n",
       "0  1.0  0.051267  0.69956  0.002628  0.035864  0.489384  0.000135  0.001839  \\\n",
       "1  1.0 -0.092742  0.68494  0.008601 -0.063523  0.469143 -0.000798  0.005891   \n",
       "2  1.0 -0.213710  0.69225  0.045672 -0.147941  0.479210 -0.009761  0.031616   \n",
       "3  1.0 -0.375000  0.50219  0.140625 -0.188321  0.252195 -0.052734  0.070620   \n",
       "4  1.0 -0.513250  0.46564  0.263426 -0.238990  0.216821 -0.135203  0.122661   \n",
       "\n",
       "        F12       F03  ...       F23       F14       F05           F60   \n",
       "0  0.025089  0.342354  ...  0.000900  0.012278  0.167542  1.815630e-08  \\\n",
       "1 -0.043509  0.321335  ...  0.002764 -0.020412  0.150752  6.362953e-07   \n",
       "2 -0.102412  0.331733  ...  0.015151 -0.049077  0.158970  9.526844e-05   \n",
       "3 -0.094573  0.126650  ...  0.017810 -0.023851  0.031940  2.780914e-03   \n",
       "4 -0.111283  0.100960  ...  0.026596 -0.024128  0.021890  1.827990e-02   \n",
       "\n",
       "            F51       F42       F33       F24       F15       F06  \n",
       "0  2.477505e-07  0.000003  0.000046  0.000629  0.008589  0.117206  \n",
       "1 -4.699318e-06  0.000035 -0.000256  0.001893 -0.013981  0.103256  \n",
       "2 -3.085938e-04  0.001000 -0.003238  0.010488 -0.033973  0.110047  \n",
       "3 -3.724126e-03  0.004987 -0.006679  0.008944 -0.011978  0.016040  \n",
       "4 -1.658422e-02  0.015046 -0.013650  0.012384 -0.011235  0.010193  \n",
       "\n",
       "[5 rows x 28 columns]"
      ]
     },
     "execution_count": 9,
     "metadata": {},
     "output_type": "execute_result"
    }
   ],
   "source": [
    "data2.head()"
   ]
  },
  {
   "cell_type": "markdown",
   "id": "39c9bf2d-9e2b-458c-a53f-26b154c5a252",
   "metadata": {},
   "source": [
    "### 构造数据集"
   ]
  },
  {
   "cell_type": "code",
   "execution_count": 10,
   "id": "be4db7b7-6ac5-49f8-aa79-ae0873dbe623",
   "metadata": {},
   "outputs": [
    {
     "data": {
      "text/plain": [
       "(118, 28)"
      ]
     },
     "execution_count": 10,
     "metadata": {},
     "output_type": "execute_result"
    }
   ],
   "source": [
    "X=data2.values\n",
    "X.shape"
   ]
  },
  {
   "cell_type": "code",
   "execution_count": 11,
   "id": "0e209a30-8d95-47c5-93e6-fd4340aed153",
   "metadata": {},
   "outputs": [
    {
     "data": {
      "text/plain": [
       "(118, 1)"
      ]
     },
     "execution_count": 11,
     "metadata": {},
     "output_type": "execute_result"
    }
   ],
   "source": [
    "y=data.iloc[:,-1].values\n",
    "y=y.reshape(len(y),1)\n",
    "y.shape"
   ]
  },
  {
   "cell_type": "markdown",
   "id": "fdf100da-a553-4a10-9a2e-6d2ad230cd03",
   "metadata": {},
   "source": [
    "#### 代价函数\n",
    "L1正则化\n",
    "$$\n",
    "\\frac{\\lambda}{2m}\\sum_{j=1}^{n}|θ_j|\n",
    "$$\n",
    "L2正则化\n",
    "$$\n",
    "\\frac{\\lambda}{2m}\\sum_{j=1}^{n}θ_j^2\n",
    "$$\n",
    "代价函数\n",
    "$$\n",
    "J(θ)=-\\frac{1}{m}[\\sum_{i=1}^{m} y^{(i)}logh_θ(x^{(i)})+(1-y^{(i)})log(1-h_θ(x^{(i)}))]+\\frac{\\lambda}{2m}\\sum_{j=1}^{n}θ_j^2\n",
    "$$\n",
    "\n",
    "$\\lambda$越小，过拟合\n",
    "\n",
    "$\\lambda$越大，欠拟合"
   ]
  },
  {
   "cell_type": "code",
   "execution_count": 22,
   "id": "89df617b-dcbb-49c5-9e07-c0bb4a8f1641",
   "metadata": {},
   "outputs": [],
   "source": [
    "def sigmoid(z):\n",
    "    return 1/(1+np.exp(-z))"
   ]
  },
  {
   "cell_type": "code",
   "execution_count": 27,
   "id": "d8400959-d1cb-4d51-816b-4947fcd12018",
   "metadata": {},
   "outputs": [],
   "source": [
    "def costFunction(X,y,theta,lamda):\n",
    "    A=sigmoid(X@theta)\n",
    "    first=y*np.log(A)\n",
    "    second=(1-y)*np.log(1-A)\n",
    "    reg=np.sum(np.power(theta[1:],2))*lamda/(2*len(X))\n",
    "\n",
    "    return -np.sum(first+second)/len(X)+reg"
   ]
  },
  {
   "cell_type": "code",
   "execution_count": 24,
   "id": "461f8b70-828b-4f85-883f-2a88bf7f1ec9",
   "metadata": {},
   "outputs": [],
   "source": [
    "theta=np.zeros((28,1))"
   ]
  },
  {
   "cell_type": "code",
   "execution_count": 28,
   "id": "5588f3d1-f520-48c3-836e-dcb6c45adb2c",
   "metadata": {},
   "outputs": [],
   "source": [
    "lamda=1"
   ]
  },
  {
   "cell_type": "code",
   "execution_count": 29,
   "id": "6faa430a-53ea-4710-b8ae-82b88dd71a4b",
   "metadata": {},
   "outputs": [],
   "source": [
    "cost_init=costFunction(X,y,theta,lamda)"
   ]
  },
  {
   "cell_type": "code",
   "execution_count": 30,
   "id": "a02dd5ff-fa47-4b51-9326-826acf8bd84c",
   "metadata": {},
   "outputs": [
    {
     "name": "stdout",
     "output_type": "stream",
     "text": [
      "0.6931471805599454\n"
     ]
    }
   ],
   "source": [
    "print(cost_init)"
   ]
  },
  {
   "cell_type": "markdown",
   "id": "7fb8e2a5-265f-4fec-ab07-3cb6ae3a1c5e",
   "metadata": {},
   "source": [
    "### 梯度下降\n",
    "\n",
    "$$\n",
    "\\frac{\\partial{J(θ)}}{\\partial{θ_j}} = \\frac{1}{m} \\sum_{i=1}^{m}(h_θ(x^{(i)})-y^{(i)})x_j^{(i)}\\tag{for j = 0}\n",
    "$$\n",
    "\n",
    "$$\n",
    "\\frac{\\partial{J(θ)}}{\\partial{θ_j}} = \\frac{1}{m} \\sum_{i=1}^{m}(h_θ(x^{(i)})-y^{(i)})x_j^{(i)}+\\frac\\lambda m θ_j\\tag{for j >= 1}\n",
    "$$"
   ]
  },
  {
   "cell_type": "code",
   "execution_count": 31,
   "id": "88f2b6b6-e51d-411c-80e3-74e8e736336e",
   "metadata": {},
   "outputs": [],
   "source": [
    "def gradientDescent(X,y,theta,alpha,iters,lamba):\n",
    "    costs=[]\n",
    "\n",
    "    for i in range(iters):\n",
    "        reg=theta[1:]*lamda/len(X)#因为从j=1开始，所以会少一行\n",
    "        reg=np.insert(reg,0,values=0,axis=0)#为了对齐，多加入一行0\n",
    "        theta=theta-(X.T@(sigmoid(X@theta)-y))*alpha/len(X)-reg\n",
    "        cost=costFunction(X,y,theta,lamda)\n",
    "        costs.append(cost)\n",
    "    return theta,costs"
   ]
  },
  {
   "cell_type": "code",
   "execution_count": 32,
   "id": "4ecebacc-ee02-4bf5-b090-2a013884f696",
   "metadata": {},
   "outputs": [],
   "source": [
    "alpha=0.001\n",
    "iters=200000\n",
    "lamda=0.001\n",
    "theta_final,costs=gradientDescent(X,y,theta,alpha,iters,lamda)"
   ]
  },
  {
   "cell_type": "code",
   "execution_count": 33,
   "id": "94490c93-4dac-4fe2-be06-36390f63c496",
   "metadata": {},
   "outputs": [],
   "source": [
    "def predict(X,theta):\n",
    "    prob=sigmoid(X@theta)\n",
    "    return [1 if x>=0.5 else 0 for x in prob]"
   ]
  },
  {
   "cell_type": "code",
   "execution_count": 34,
   "id": "4193c609-da20-471b-afa7-6b8c561f82ec",
   "metadata": {},
   "outputs": [
    {
     "name": "stdout",
     "output_type": "stream",
     "text": [
      "0.8305084745762712\n"
     ]
    }
   ],
   "source": [
    "y_=np.array(predict(X,theta_final))\n",
    "y_pre=y_.reshape(len(y_),1)\n",
    "\n",
    "acc=np.mean(y_pre==y)\n",
    "print(acc)"
   ]
  },
  {
   "cell_type": "markdown",
   "id": "75aad181-1a0f-4743-9654-45189d456268",
   "metadata": {},
   "source": [
    "### 决策界面"
   ]
  },
  {
   "cell_type": "code",
   "execution_count": 35,
   "id": "586a1b4f-ad91-44be-b68d-61504714d988",
   "metadata": {},
   "outputs": [
    {
     "data": {
      "image/png": "[encoded data removed]",
      "text/plain": [
       "<Figure size 640x480 with 1 Axes>"
      ]
     },
     "metadata": {},
     "output_type": "display_data"
    }
   ],
   "source": [
    "x=np.linspace(-1.2,1.2,200)\n",
    "xx,yy=np.meshgrid(x,x)\n",
    "z=feature_mapping(xx.ravel(),yy.ravel(),6).values #ravel拉成向量\n",
    "zz=z@theta_final\n",
    "zz=zz.reshape(xx.shape)\n",
    "\n",
    "fig,ax=plt.subplots()\n",
    "ax.scatter(data[data['Accepted']==0]['Test 1'],data[data['Accepted']==0]['Test 2'],c='r',marker='x',label='y=0')\n",
    "ax.scatter(data[data['Accepted']==1]['Test 1'],data[data['Accepted']==1]['Test 2'],c='b',marker='o',label='y=1')\n",
    "ax.legend()\n",
    "ax.set(xlabel='Test 1',ylabel='Test 2')\n",
    "plt.contour(xx,yy,zz,0)# 等高线\n",
    "plt.show()"
   ]
  }
 ],
 "metadata": {
  "kernelspec": {
   "display_name": "Python 3 (ipykernel)",
   "language": "python",
   "name": "python3"
  },
  "language_info": {
   "codemirror_mode": {
    "name": "ipython",
    "version": 3
   },
   "file_extension": ".py",
   "mimetype": "text/x-python",
   "name": "python",
   "nbconvert_exporter": "python",
   "pygments_lexer": "ipython3",
   "version": "3.10.8"
  }
 },
 "nbformat": 4,
 "nbformat_minor": 5
}
