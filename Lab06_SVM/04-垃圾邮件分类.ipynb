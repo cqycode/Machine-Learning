{
 "cells": [
  {
   "cell_type": "markdown",
   "id": "8f55e3ab-128c-4f68-a943-88e87b9fd218",
   "metadata": {},
   "source": [
    "### 案例：判断邮件是否是垃圾邮件"
   ]
  },
  {
   "cell_type": "code",
   "execution_count": 1,
   "id": "a4079ee2-6de8-4721-aac1-16d8af18c713",
   "metadata": {},
   "outputs": [],
   "source": [
    "import scipy.io as sio\n",
    "from sklearn.svm import SVC"
   ]
  },
  {
   "cell_type": "code",
   "execution_count": 3,
   "id": "5a23471f-fb66-460d-ade4-fb1584b2ed62",
   "metadata": {},
   "outputs": [],
   "source": [
    "data1=sio.loadmat('data/spamTrain.mat')\n",
    "X,y=data1['X'],data1['y']\n",
    "\n",
    "data2=sio.loadmat('data/spamTest.mat')\n",
    "Xtest,ytest=data2['Xtest'],data2['ytest']"
   ]
  },
  {
   "cell_type": "code",
   "execution_count": 4,
   "id": "b2e0de12-6754-4fa7-a8ea-e0f1a1f20119",
   "metadata": {},
   "outputs": [
    {
     "data": {
      "text/plain": [
       "((4000, 1899), (4000, 1))"
      ]
     },
     "execution_count": 4,
     "metadata": {},
     "output_type": "execute_result"
    }
   ],
   "source": [
    "X.shape,y.shape"
   ]
  },
  {
   "cell_type": "markdown",
   "id": "ba204dd1-2935-432a-acd5-c72696cef79f",
   "metadata": {},
   "source": [
    "X有4000行，每一行表示一封邮件，每一位表示该邮件是否包含某个词\n",
    "\n",
    "y表示该邮件是否是垃圾邮件"
   ]
  },
  {
   "cell_type": "code",
   "execution_count": 5,
   "id": "51ad78ab-6bc6-4566-88a0-cbb1315a3de7",
   "metadata": {},
   "outputs": [
    {
     "data": {
      "text/plain": [
       "array([[0, 0, 0, ..., 0, 0, 0],\n",
       "       [0, 0, 0, ..., 0, 0, 0],\n",
       "       [0, 0, 0, ..., 0, 0, 0],\n",
       "       ...,\n",
       "       [0, 0, 0, ..., 0, 0, 0],\n",
       "       [0, 0, 1, ..., 0, 0, 0],\n",
       "       [0, 0, 0, ..., 0, 0, 0]], shape=(4000, 1899), dtype=uint8)"
      ]
     },
     "execution_count": 5,
     "metadata": {},
     "output_type": "execute_result"
    }
   ],
   "source": [
    "X"
   ]
  },
  {
   "cell_type": "code",
   "execution_count": 6,
   "id": "d75e99e7-f418-4631-a604-bb5a1a66527c",
   "metadata": {},
   "outputs": [
    {
     "data": {
      "text/plain": [
       "array([[1],\n",
       "       [1],\n",
       "       [0],\n",
       "       ...,\n",
       "       [1],\n",
       "       [0],\n",
       "       [0]], shape=(4000, 1), dtype=uint8)"
      ]
     },
     "execution_count": 6,
     "metadata": {},
     "output_type": "execute_result"
    }
   ],
   "source": [
    "y"
   ]
  },
  {
   "cell_type": "code",
   "execution_count": 7,
   "id": "27b68d82-94c1-4f12-ae25-5dd895408a05",
   "metadata": {},
   "outputs": [
    {
     "name": "stdout",
     "output_type": "stream",
     "text": [
      "0.99 0.03\n"
     ]
    }
   ],
   "source": [
    "Cvalues=[0.01,0.03,0.1,0.3,1,3,10,30,100]\n",
    "\n",
    "best_score=0\n",
    "best_param=0\n",
    "\n",
    "for c in Cvalues:\n",
    "    svc=SVC(C=c,kernel='linear')\n",
    "    svc.fit(X,y.flatten())\n",
    "    score=svc.score(Xtest,ytest.flatten())\n",
    "    if score>best_score:\n",
    "        best_score=score\n",
    "        best_param=c\n",
    "print(best_score,best_param)"
   ]
  },
  {
   "cell_type": "code",
   "execution_count": 8,
   "id": "da1e1840-2fe6-4c70-bb9f-8bcb87627d6c",
   "metadata": {},
   "outputs": [],
   "source": [
    "svc=SVC(C=0.03,kernel='linear')\n",
    "svc.fit(X,y.flatten())\n",
    "score_train=svc.score(X,y.flatten())\n",
    "score_test=svc.score(Xtest,ytest.flatten())"
   ]
  },
  {
   "cell_type": "code",
   "execution_count": 9,
   "id": "fa2b8612-97d2-492d-9c10-638f35af0035",
   "metadata": {},
   "outputs": [
    {
     "name": "stdout",
     "output_type": "stream",
     "text": [
      "0.99425 0.99\n"
     ]
    }
   ],
   "source": [
    "print(score_train,score_test)"
   ]
  }
 ],
 "metadata": {
  "kernelspec": {
   "display_name": "Python 3 (ipykernel)",
   "language": "python",
   "name": "python3"
  },
  "language_info": {
   "codemirror_mode": {
    "name": "ipython",
    "version": 3
   },
   "file_extension": ".py",
   "mimetype": "text/x-python",
   "name": "python",
   "nbconvert_exporter": "python",
   "pygments_lexer": "ipython3",
   "version": "3.10.18"
  }
 },
 "nbformat": 4,
 "nbformat_minor": 5
}
